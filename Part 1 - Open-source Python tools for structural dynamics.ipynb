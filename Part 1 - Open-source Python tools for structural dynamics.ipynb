{
 "cells": [
  {
   "cell_type": "markdown",
   "metadata": {},
   "source": [
    "<center>\n",
    "<img width=800 src=\"./figures/ladisk.png\">\n",
    "<br>\n",
    "<font size=\"8\" color=\"f00e0e\" face=\"garamond\"><b>High-speed Image Based Experimental Modal Analysis & Open Source Tools</b></font>\n",
    "<font size=\"6\" color=\"f00e0e\" face=\"garamond\"><br><br><b>Free Online Course</b></font>\n",
    "<img src=\"\">\n",
    "<font size=\"5\">June 29th, July 1st 2020</font>\n",
    "    \n",
    "<b>Klemen Zaletelj$^a$, Domen Gorjup$^a$ and Janko Slavič$^a$</b>\n",
    "\n",
    "$^a$ Faculty of Mechanical Engineering, University of Ljubljana\n",
    "\n",
    "\\* Corresponding email: janko.slavic@fs.uni-lj.si\n",
    "</center>"
   ]
  },
  {
   "cell_type": "markdown",
   "metadata": {},
   "source": [
    "<b style=\"font-size:30px\">``https://github.com/ladisk/sdPy``</b>"
   ]
  },
  {
   "cell_type": "markdown",
   "metadata": {},
   "source": [
    "---"
   ]
  },
  {
   "cell_type": "markdown",
   "metadata": {},
   "source": [
    "## Requirements"
   ]
  },
  {
   "cell_type": "markdown",
   "metadata": {},
   "source": [
    "To run the interactive course (Jupyter Notebook) templates you will need to install the Python programming language, as well as its ``jupyter`` and ``notebook`` packages. \n",
    "\n",
    "* An easy way to get these is by installing the [Anaconda distribution of Python](https://www.anaconda.com/products/individual) (select the latest version of Python 3 for your operating system).\n",
    "\n",
    "\n",
    "* Another tool you might find useful when accessing the course material is the [Git version control system](https://git-scm.com/downloads). After installing the Git client, you are ready to get the course template by cloning from our github repository!"
   ]
  },
  {
   "cell_type": "markdown",
   "metadata": {},
   "source": [
    "## Following the course (potrebno v Notebook peredlogi?)"
   ]
  },
  {
   "cell_type": "markdown",
   "metadata": {},
   "source": [
    "The course material is available as two interactive Jupyter Notebooks, available at:\n",
    "\n",
    "<big>``https://github.com/ladisk/pyidi``</big>"
   ]
  },
  {
   "cell_type": "markdown",
   "metadata": {},
   "source": [
    "If you have a Git client set up on your machine, you can set up a local copy of the template repository by running:\n",
    "\n",
    "```cmd\n",
    "$ git clone https://github.com/ladisk/sdPy.git\n",
    "```\n",
    "\n",
    "in a comand prompt / terminal window in your local directory where you want the course material to be saved."
   ]
  },
  {
   "cell_type": "markdown",
   "metadata": {},
   "source": [
    "### Jupyter notebook\n",
    "\n",
    "Jupyter notebook is an interactive programming environment, and is included in the Anaconda distribution. Some of the characteristics of Jupyter notebook:\n",
    "\n",
    "* cell based programming (similar to Mathematica),\n",
    "* file extension **.ipynb**,\n",
    "* running each individual cell,\n",
    "* includes **Markdown** and **Code** type cells.\n",
    "\n",
    "**Start Jupyter notebook by running:** \n",
    "```cmd\n",
    "$ jupyter notebook\n",
    "```\n",
    "\n",
    "in a comand prompt / terminal window in your local directory."
   ]
  },
  {
   "cell_type": "markdown",
   "metadata": {},
   "source": [
    " <img src=\"figures/jupyter_notebook_gif.gif\" width=\"1000px\"> "
   ]
  },
  {
   "cell_type": "markdown",
   "metadata": {},
   "source": [
    "---"
   ]
  },
  {
   "cell_type": "markdown",
   "metadata": {},
   "source": [
    "# Part 1: How to start with Python for structural dynamics"
   ]
  },
  {
   "cell_type": "markdown",
   "metadata": {},
   "source": [
    "[Python](https://www.python.org/) is an **open-source**, interpreted, dynamically typed programming language. \n",
    "\n",
    "Its **availability** and **intuitive syntax** make it one of the most popular programming language choises in the scientific community."
   ]
  },
  {
   "cell_type": "markdown",
   "metadata": {},
   "source": [
    "### The Anaconda distribution\n",
    "[Anaconda](https://www.anaconda.com/products/individual) is one of the many distributions of Python that makes starting out with Python very easy, as it comes with:\n",
    "\n",
    "* More than 1,400 packages pre-installed\n",
    "* Anaconda navigator (desktop GUI)\n",
    "* **conda** package manager for additional package installation: https://anaconda.org/anaconda/repo"
   ]
  },
  {
   "cell_type": "markdown",
   "metadata": {},
   "source": [
    "---"
   ]
  },
  {
   "cell_type": "markdown",
   "metadata": {},
   "source": [
    "## Before the course"
   ]
  },
  {
   "cell_type": "markdown",
   "metadata": {},
   "source": [
    "### Python for beginner programmers"
   ]
  },
  {
   "cell_type": "markdown",
   "metadata": {},
   "source": [
    "If you are just starting out with programming and you have already successfully installed a version of Python on your machine, we suggest going over a beginner Python tutorial before following this course.\n",
    "\n",
    "[Scipy lecture notes](http://scipy-lectures.org/index.html) are a great resource for aspiring Python users, focused more on the scientific community.\n",
    "Sections [1.1](http://scipy-lectures.org/intro/intro.html) and [1.2](http://scipy-lectures.org/intro/language/python_language.html) of Scipy lecture notes will provide more than enough info to get you started.\n",
    "\n",
    "If you want to learn even more about Python, you will find countless tutorials available online, but the [official Python tutorial](https://docs.python.org/3/tutorial/index.html) is a good place to start.\n",
    "\n",
    "You can also find many more great resources in the [official Python beginners guide](https://wiki.python.org/moin/BeginnersGuide)."
   ]
  },
  {
   "cell_type": "markdown",
   "metadata": {},
   "source": [
    "### Python for Matlab users"
   ]
  },
  {
   "cell_type": "markdown",
   "metadata": {},
   "source": [
    "Many researchers and engineers learning Python come from a background of Matlab or a similar commercial software package. A lot of effort has gone into making this transition as simple as possible.\n",
    "\n",
    "The [Scipy](https://www.scipy.org/) project includes all the tools required to make Python a powerful alternative to most comercially available numerical packages. If you are an experienced Matlab user, the [NumPy for Matlab users](https://numpy.org/doc/stable/user/numpy-for-matlab-users.html) page contains important information to quickly get you started."
   ]
  },
  {
   "cell_type": "markdown",
   "metadata": {},
   "source": [
    "---"
   ]
  },
  {
   "cell_type": "markdown",
   "metadata": {},
   "source": [
    "## Python's scientific and numerical libraries"
   ]
  },
  {
   "cell_type": "markdown",
   "metadata": {},
   "source": [
    "Python comes with some very useful features [out of-the-box](https://docs.python.org/3/library/):\n",
    "\n",
    "* numerical and mathematical datatypes and functions,\n",
    "* filesystem management tools,\n",
    "* data compression tools,\n",
    "* support for various networking and internet protocols ([http](https://docs.python.org/3/library/http.html), [email](https://docs.python.org/3/library/email.html), [websockets](https://docs.python.org/3/library/socket.html), ...),\n",
    "text processing and binary data manipulation,\n",
    "* development tools (documentation, unit-testing, ...)\n",
    "* The **[pip package maager](https://pip.pypa.io/en/stable/)**,\n",
    "* ..."
   ]
  },
  {
   "cell_type": "markdown",
   "metadata": {},
   "source": [
    "With the Anaconda distribution of Python you also get Python's essential numerical packages pre-installed:"
   ]
  },
  {
   "cell_type": "markdown",
   "metadata": {},
   "source": [
    "### SciPy\n",
    "\n",
    "The [SciPy](https://www.scipy.org/index.html) stack is a collection of open-source Python software for science and engineering. To get more information on how to use Scientific Python, see the [Getting started with SciPy page](https://www.scipy.org/getting-started.html). \n",
    "\n",
    "The SciPy stack consists of six core packages, including:"
   ]
  },
  {
   "cell_type": "markdown",
   "metadata": {},
   "source": [
    "---"
   ]
  },
  {
   "cell_type": "markdown",
   "metadata": {},
   "source": [
    "**[NumPy](http://www.numpy.org/)**: \n",
    "\n",
    "* Adds support for the efficient multidimentional ``ndarray`` data object for numerical data representation. \n",
    "* Functions for *numerical data manipulation*, *linear algebra* and *the Fourier transform*."
   ]
  },
  {
   "cell_type": "code",
   "execution_count": 1,
   "metadata": {},
   "outputs": [
    {
     "data": {
      "text/plain": [
       "array([1, 2, 3, 4, 5])"
      ]
     },
     "execution_count": 1,
     "metadata": {},
     "output_type": "execute_result"
    }
   ],
   "source": [
    "import numpy as np\n",
    "\n",
    "L = [1, 2, 3, 4, 5] # This is a list\n",
    "a = np.array(L)     # This is an array\n",
    "a"
   ]
  },
  {
   "cell_type": "markdown",
   "metadata": {},
   "source": [
    "Note the difference:"
   ]
  },
  {
   "cell_type": "code",
   "execution_count": 2,
   "metadata": {},
   "outputs": [
    {
     "data": {
      "text/plain": [
       "[1, 2, 3, 4, 5, 1, 2, 3, 4, 5]"
      ]
     },
     "execution_count": 2,
     "metadata": {},
     "output_type": "execute_result"
    }
   ],
   "source": [
    "2*L"
   ]
  },
  {
   "cell_type": "code",
   "execution_count": 3,
   "metadata": {},
   "outputs": [
    {
     "data": {
      "text/plain": [
       "array([ 2,  4,  6,  8, 10])"
      ]
     },
     "execution_count": 3,
     "metadata": {},
     "output_type": "execute_result"
    }
   ],
   "source": [
    "2*a"
   ]
  },
  {
   "cell_type": "markdown",
   "metadata": {},
   "source": [
    "A range of numbers:"
   ]
  },
  {
   "cell_type": "code",
   "execution_count": 4,
   "metadata": {},
   "outputs": [
    {
     "data": {
      "text/plain": [
       "array([0, 2, 4, 6, 8])"
      ]
     },
     "execution_count": 4,
     "metadata": {},
     "output_type": "execute_result"
    }
   ],
   "source": [
    "a1 = np.arange(0, 10, 2)\n",
    "a1"
   ]
  },
  {
   "cell_type": "markdown",
   "metadata": {},
   "source": [
    "Linearly spaced numbers:"
   ]
  },
  {
   "cell_type": "code",
   "execution_count": 5,
   "metadata": {},
   "outputs": [
    {
     "data": {
      "text/plain": [
       "array([ 0.+0.j,  2.+0.j,  4.+0.j,  6.+0.j,  8.+0.j, 10.+0.j])"
      ]
     },
     "execution_count": 5,
     "metadata": {},
     "output_type": "execute_result"
    }
   ],
   "source": [
    "a2 = np.linspace(0, 10, 6, dtype=complex)\n",
    "a2"
   ]
  },
  {
   "cell_type": "markdown",
   "metadata": {},
   "source": [
    "Multidimensional arrays are used to represent matrices:"
   ]
  },
  {
   "cell_type": "code",
   "execution_count": 7,
   "metadata": {},
   "outputs": [
    {
     "data": {
      "text/plain": [
       "array([[0.19123329, 0.95155386, 0.09793186],\n",
       "       [0.90330402, 0.58523457, 0.39978071],\n",
       "       [0.03340847, 0.11496146, 0.76396991]])"
      ]
     },
     "execution_count": 7,
     "metadata": {},
     "output_type": "execute_result"
    }
   ],
   "source": [
    "M = np.random.rand(3, 3) # This is a matrix\n",
    "M"
   ]
  },
  {
   "cell_type": "markdown",
   "metadata": {},
   "source": [
    "**For more information on the NumPy library, see the [official NumPy tutorial](https://numpy.org/devdocs/user/basics.html).**"
   ]
  },
  {
   "cell_type": "markdown",
   "metadata": {},
   "source": [
    "---"
   ]
  },
  {
   "cell_type": "markdown",
   "metadata": {},
   "source": [
    "**[Matplotlib](https://matplotlib.org/)**:\n",
    "\n",
    "* A plotting library for producing publication-ready data visualizations.\n",
    "* A MATLAB-inspired user interface.\n"
   ]
  },
  {
   "cell_type": "code",
   "execution_count": 17,
   "metadata": {},
   "outputs": [
    {
     "data": {
      "image/png": "[encoded data removed]",
      "text/plain": [
       "<Figure size 432x288 with 1 Axes>"
      ]
     },
     "metadata": {
      "needs_background": "light"
     },
     "output_type": "display_data"
    }
   ],
   "source": [
    "import matplotlib.pyplot as plt\n",
    "\n",
    "x = np.linspace(0, 1, 40)\n",
    "y1 = np.sin(2*np.pi*2*x)\n",
    "y2 = np.cos(2*np.pi*2*x)\n",
    "\n",
    "plt.plot(x, y1, 'o', label='sin')\n",
    "plt.plot(x, y2, 'o', label='cos')\n",
    "plt.legend()\n",
    "plt.xlabel('x')\n",
    "plt.ylabel('y')\n",
    "plt.title('Sin and Cos')\n",
    "plt.grid(True)\n",
    "plt.show()"
   ]
  },
  {
   "cell_type": "markdown",
   "metadata": {},
   "source": [
    "**For more information on the Matplotlib library, see the [official Matplotlib tutorials page](https://matplotlib.org/tutorials/index.html).**"
   ]
  },
  {
   "cell_type": "markdown",
   "metadata": {},
   "source": [
    "---"
   ]
  },
  {
   "cell_type": "markdown",
   "metadata": {},
   "source": [
    "**[The SciPy library](https://docs.scipy.org/doc/scipy/reference/)** provides user-friendly and efficient numerical routines for:\n",
    "\n",
    "* Signal processing,\n",
    "* numerical integration,\n",
    "* optimization,\n",
    "* interpolation.\n",
    "\n",
    "all based on the NumPy `ndarray` class."
   ]
  },
  {
   "cell_type": "code",
   "execution_count": 18,
   "metadata": {},
   "outputs": [
    {
     "data": {
      "text/plain": [
       "Text(0, 0.5, 'y')"
      ]
     },
     "execution_count": 18,
     "metadata": {},
     "output_type": "execute_result"
    },
    {
     "data": {
      "image/png": "[encoded data removed]",
      "text/plain": [
       "<Figure size 432x288 with 1 Axes>"
      ]
     },
     "metadata": {
      "needs_background": "light"
     },
     "output_type": "display_data"
    }
   ],
   "source": [
    "from scipy.interpolate import InterpolatedUnivariateSpline\n",
    "\n",
    "x_int = np.linspace(0, 1, 1000)\n",
    "spl = InterpolatedUnivariateSpline(x, y1, k=3)\n",
    "\n",
    "plt.plot(x_int, spl(x_int), '.', label='Interpolated')\n",
    "plt.plot(x, y1, 'o', label='Original')\n",
    "plt.legend()\n",
    "plt.xlabel('x')\n",
    "plt.ylabel('y')"
   ]
  },
  {
   "cell_type": "markdown",
   "metadata": {},
   "source": [
    "**For more information on the SciPy library, see the [official Scipy tutorial](https://docs.scipy.org/doc/scipy/reference/tutorial/).**"
   ]
  },
  {
   "cell_type": "markdown",
   "metadata": {},
   "source": [
    "---"
   ]
  },
  {
   "cell_type": "markdown",
   "metadata": {},
   "source": [
    "For more specific tasks (such as experimental modal analysis), there is a good chance that you will be able to find an existing package in the [Python Package Index (PyPI)](https://pypi.org/) database of over 200 000 open source packages.\n",
    "\n",
    "To install a chosen package, use the `pip` package manager by running the following in the command prompt / terminal:\n",
    "\n",
    "```cmd\n",
    "$ pip install <package name>\n",
    "```"
   ]
  },
  {
   "cell_type": "markdown",
   "metadata": {},
   "source": [
    "You can also run commands from a Jupyter Notebook code cell by prefixing them with the `!` character:"
   ]
  },
  {
   "cell_type": "code",
   "execution_count": 20,
   "metadata": {},
   "outputs": [
    {
     "name": "stdout",
     "output_type": "stream",
     "text": [
      "Requirement already satisfied: pyfrf in c:\\programdata\\anaconda3\\lib\\site-packages (0.40)\n",
      "Requirement already satisfied: numpy in c:\\programdata\\anaconda3\\lib\\site-packages (from pyfrf) (1.18.1)\n"
     ]
    },
    {
     "name": "stderr",
     "output_type": "stream",
     "text": [
      "WARNING: You are using pip version 20.0.1; however, version 20.1.1 is available.\n",
      "You should consider upgrading via the 'c:\\programdata\\anaconda3\\python.exe -m pip install --upgrade pip' command.\n"
     ]
    }
   ],
   "source": [
    "!pip install pyfrf"
   ]
  },
  {
   "cell_type": "markdown",
   "metadata": {},
   "source": [
    "## pyFRF"
   ]
  },
  {
   "cell_type": "code",
   "execution_count": null,
   "metadata": {},
   "outputs": [],
   "source": []
  },
  {
   "cell_type": "markdown",
   "metadata": {},
   "source": [
    "## pyEMA"
   ]
  },
  {
   "cell_type": "code",
   "execution_count": null,
   "metadata": {},
   "outputs": [],
   "source": []
  },
  {
   "cell_type": "markdown",
   "metadata": {},
   "source": [
    "## Some other useful packages"
   ]
  },
  {
   "cell_type": "code",
   "execution_count": null,
   "metadata": {},
   "outputs": [],
   "source": []
  }
 ],
 "metadata": {
  "kernelspec": {
   "display_name": "Python 3",
   "language": "python",
   "name": "python3"
  },
  "language_info": {
   "codemirror_mode": {
    "name": "ipython",
    "version": 3
   },
   "file_extension": ".py",
   "mimetype": "text/x-python",
   "name": "python",
   "nbconvert_exporter": "python",
   "pygments_lexer": "ipython3",
   "version": "3.7.1"
  },
  "toc": {
   "base_numbering": 1,
   "nav_menu": {},
   "number_sections": false,
   "sideBar": true,
   "skip_h1_title": false,
   "title_cell": "Table of Contents",
   "title_sidebar": "Contents",
   "toc_cell": false,
   "toc_position": {},
   "toc_section_display": true,
   "toc_window_display": false
  }
 },
 "nbformat": 4,
 "nbformat_minor": 2
}
