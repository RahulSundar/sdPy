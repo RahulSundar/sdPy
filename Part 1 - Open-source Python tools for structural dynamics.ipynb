{
 "cells": [
  {
   "cell_type": "markdown",
   "metadata": {},
   "source": [
    "<center>\n",
    "<img width=800 src=\"./figures/ladisk.png\">\n",
    "<br>\n",
    "<font size=\"8\" color=\"f00e0e\" face=\"garamond\"><b>High-speed Image Based Experimental Modal Analysis & Open Source Tools</b></font>\n",
    "<font size=\"6\" color=\"f00e0e\" face=\"garamond\"><br><br><b>Free Online Course</b></font>\n",
    "<img src=\"\">\n",
    "<font size=\"5\">June 29th, July 1st 2020</font>\n",
    "    \n",
    "<b>Klemen Zaletelj$^a$, Domen Gorjup$^a$ and Janko Slavič$^a$</b>\n",
    "\n",
    "$^a$ Faculty of Mechanical Engineering, University of Ljubljana\n",
    "\n",
    "\\* Corresponding email: janko.slavic@fs.uni-lj.si\n",
    "</center>"
   ]
  },
  {
   "cell_type": "markdown",
   "metadata": {},
   "source": [
    "<b style=\"font-size:30px\">``https://github.com/ladisk/sdPy``</b>"
   ]
  },
  {
   "cell_type": "markdown",
   "metadata": {},
   "source": [
    "---"
   ]
  },
  {
   "cell_type": "markdown",
   "metadata": {},
   "source": [
    "## Requirements"
   ]
  },
  {
   "cell_type": "markdown",
   "metadata": {},
   "source": [
    "To run the interactive course (Jupyter Notebook) templates you will need to install the Python programming language, as well as its ``jupyter`` and ``notebook`` packages. \n",
    "\n",
    "* An easy way to get these is by installing the [Anaconda distribution of Python](https://www.anaconda.com/products/individual) (select the latest version of Python 3 for your operating system).\n",
    "\n",
    "\n",
    "* Another tool you might find useful when accessing the course material is the [Git version control system](https://git-scm.com/downloads). After installing the Git client, you are ready to get the course template by cloning from our github repository!"
   ]
  },
  {
   "cell_type": "markdown",
   "metadata": {},
   "source": [
    "## Following the course"
   ]
  },
  {
   "cell_type": "markdown",
   "metadata": {},
   "source": [
    "The course material is available as two interactive Jupyter Notebooks, available at:\n",
    "\n",
    "<big>``https://github.com/ladisk/pyidi``</big>"
   ]
  },
  {
   "cell_type": "markdown",
   "metadata": {},
   "source": [
    "If you have a Git client set up on your machine, you can set up a local copy of the template repository by running:\n",
    "\n",
    "```cmd\n",
    "$ git clone https://github.com/ladisk/sdPy.git\n",
    "```\n",
    "\n",
    "in the command line, in the directory where you want the course material to be saved."
   ]
  },
  {
   "cell_type": "markdown",
   "metadata": {},
   "source": [
    "### Jupyter notebook\n",
    "\n",
    "Jupyter notebook is an interactive programming environment, and is included in the Anaconda distribution. Some of the characteristics of Jupyter notebook:\n",
    "\n",
    "* cell based programming (similar to Mathematica),\n",
    "* file extension **.ipynb**,\n",
    "* running each individual cell,\n",
    "* includes **Markdown** and **Code** type cells.\n",
    "\n",
    "**Start Jupyter notebook by running:** \n",
    "```cmd\n",
    "$ jupyter notebook\n",
    "```\n",
    "\n",
    "in a comand prompt / terminal window in your local directory."
   ]
  },
  {
   "cell_type": "markdown",
   "metadata": {},
   "source": [
    " <img src=\"figures/jupyter_notebook_gif.gif\" width=\"1000px\"> "
   ]
  },
  {
   "cell_type": "markdown",
   "metadata": {},
   "source": [
    "---"
   ]
  },
  {
   "cell_type": "markdown",
   "metadata": {},
   "source": [
    "# Part 1: How to start with Python for structural dynamics"
   ]
  },
  {
   "cell_type": "markdown",
   "metadata": {},
   "source": [
    "[Python](https://www.python.org/) is an **open-source**, interpreted, dynamically typed programming language. \n",
    "\n",
    "Its **availability** and **simple syntax** make it one of the most popular programming language choises in the scientific community."
   ]
  },
  {
   "cell_type": "markdown",
   "metadata": {},
   "source": [
    "### The Anaconda distribution\n",
    "[Anaconda](https://www.anaconda.com/products/individual) is one of the many distributions of Python that makes starting out with Python very easy, as it comes with:\n",
    "\n",
    "* More than 1,400 packages pre-installed\n",
    "* Anaconda navigator (desktop GUI)\n",
    "* **conda** package manager for additional package installation: https://anaconda.org/anaconda/repo"
   ]
  },
  {
   "cell_type": "markdown",
   "metadata": {},
   "source": [
    "---"
   ]
  },
  {
   "cell_type": "markdown",
   "metadata": {},
   "source": [
    "## Before the course"
   ]
  },
  {
   "cell_type": "markdown",
   "metadata": {},
   "source": [
    "### Python for beginner programmers"
   ]
  },
  {
   "cell_type": "markdown",
   "metadata": {},
   "source": [
    "If you are just starting out with programming and you have already successfully installed a version of Python on your machine, we suggest going over a beginner Python tutorial before following this course.\n",
    "\n",
    "There are countless Python tutorials available online, but the [official Python tutorial](https://docs.python.org/3/tutorial/index.html) is a great place to start.\n",
    "\n",
    "[Scipy lecture notes](http://scipy-lectures.org/index.html) are another great resource for Python aspiring Python users, focused more on the scientific community.\n",
    "Sections [1.1](http://scipy-lectures.org/intro/intro.html) and [1.2](http://scipy-lectures.org/intro/language/python_language.html) of Scipy lecture notes will provide more than enough info to get you started.\n",
    "\n",
    "You can also find many more great resources in the [official Python beginners guide](https://wiki.python.org/moin/BeginnersGuide)."
   ]
  },
  {
   "cell_type": "markdown",
   "metadata": {},
   "source": [
    "### Python for Matlab users"
   ]
  },
  {
   "cell_type": "markdown",
   "metadata": {},
   "source": [
    "Many researchers and engineers learning Python come from a background of Matlab or a similar commercial software package. A lot of effort has gone into making this transition as simple as possible.\n",
    "\n",
    "The [Scipy](https://www.scipy.org/) project includes all the tools required to make Python a powerful alternative to most comercially available numerical packages. If you are an experienced Matlab user, the [NumPy for Matlab users](https://numpy.org/doc/stable/user/numpy-for-matlab-users.html) page contains important information to quickly get you started."
   ]
  },
  {
   "cell_type": "markdown",
   "metadata": {},
   "source": [
    "---"
   ]
  },
  {
   "cell_type": "markdown",
   "metadata": {},
   "source": [
    "## Python's scientific and numerical libraries"
   ]
  },
  {
   "cell_type": "code",
   "execution_count": null,
   "metadata": {},
   "outputs": [],
   "source": []
  },
  {
   "cell_type": "markdown",
   "metadata": {},
   "source": [
    "## pyFRF"
   ]
  },
  {
   "cell_type": "code",
   "execution_count": null,
   "metadata": {},
   "outputs": [],
   "source": []
  },
  {
   "cell_type": "markdown",
   "metadata": {},
   "source": [
    "## pyEMA"
   ]
  },
  {
   "cell_type": "code",
   "execution_count": null,
   "metadata": {},
   "outputs": [],
   "source": []
  },
  {
   "cell_type": "markdown",
   "metadata": {},
   "source": [
    "## Some other useful packages"
   ]
  },
  {
   "cell_type": "code",
   "execution_count": null,
   "metadata": {},
   "outputs": [],
   "source": []
  }
 ],
 "metadata": {
  "kernelspec": {
   "display_name": "Python 3",
   "language": "python",
   "name": "python3"
  },
  "language_info": {
   "codemirror_mode": {
    "name": "ipython",
    "version": 3
   },
   "file_extension": ".py",
   "mimetype": "text/x-python",
   "name": "python",
   "nbconvert_exporter": "python",
   "pygments_lexer": "ipython3",
   "version": "3.7.1"
  },
  "toc": {
   "base_numbering": 1,
   "nav_menu": {},
   "number_sections": false,
   "sideBar": true,
   "skip_h1_title": false,
   "title_cell": "Table of Contents",
   "title_sidebar": "Contents",
   "toc_cell": false,
   "toc_position": {},
   "toc_section_display": true,
   "toc_window_display": false
  }
 },
 "nbformat": 4,
 "nbformat_minor": 2
}
